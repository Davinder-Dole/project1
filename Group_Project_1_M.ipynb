{
 "cells": [
  {
   "cell_type": "code",
   "execution_count": 2,
   "metadata": {},
   "outputs": [],
   "source": [
    "import pandas as pd\n",
    "import matplotlib.pyplot as plt\n",
    "import numpy as np\n",
    "from datetime import datetime"
   ]
  },
  {
   "cell_type": "code",
   "execution_count": 3,
   "metadata": {},
   "outputs": [],
   "source": [
    "df_clean=pd.read_csv(\"data/df_clean.csv\")\n"
   ]
  },
  {
   "cell_type": "code",
   "execution_count": 4,
   "metadata": {},
   "outputs": [],
   "source": [
    "df_clean[\"DateOccurred\"]=pd.to_datetime(df_clean[\"DateOccurred\"])"
   ]
  },
  {
   "cell_type": "code",
   "execution_count": 5,
   "metadata": {},
   "outputs": [
    {
     "data": {
      "text/html": [
       "<div>\n",
       "<style scoped>\n",
       "    .dataframe tbody tr th:only-of-type {\n",
       "        vertical-align: middle;\n",
       "    }\n",
       "\n",
       "    .dataframe tbody tr th {\n",
       "        vertical-align: top;\n",
       "    }\n",
       "\n",
       "    .dataframe thead th {\n",
       "        text-align: right;\n",
       "    }\n",
       "</style>\n",
       "<table border=\"1\" class=\"dataframe\">\n",
       "  <thead>\n",
       "    <tr style=\"text-align: right;\">\n",
       "      <th></th>\n",
       "      <th>Unnamed: 0</th>\n",
       "      <th>DRNumber</th>\n",
       "      <th>DateOccurred</th>\n",
       "      <th>TimeOccurred</th>\n",
       "      <th>AreaID</th>\n",
       "      <th>AreaName</th>\n",
       "      <th>CrimeCode</th>\n",
       "      <th>CrimeCodeDescription</th>\n",
       "      <th>VictimAge</th>\n",
       "      <th>VictimSex</th>\n",
       "      <th>VictimDescent</th>\n",
       "      <th>Location</th>\n",
       "    </tr>\n",
       "  </thead>\n",
       "  <tbody>\n",
       "    <tr>\n",
       "      <th>0</th>\n",
       "      <td>0</td>\n",
       "      <td>1208575</td>\n",
       "      <td>2013-03-11</td>\n",
       "      <td>1800</td>\n",
       "      <td>12</td>\n",
       "      <td>77th Street</td>\n",
       "      <td>626</td>\n",
       "      <td>INTIMATE PARTNER - SIMPLE ASSAULT</td>\n",
       "      <td>30.0</td>\n",
       "      <td>F</td>\n",
       "      <td>W</td>\n",
       "      <td>(33.9829, -118.3338)</td>\n",
       "    </tr>\n",
       "    <tr>\n",
       "      <th>1</th>\n",
       "      <td>4</td>\n",
       "      <td>42104479</td>\n",
       "      <td>2014-01-04</td>\n",
       "      <td>2300</td>\n",
       "      <td>21</td>\n",
       "      <td>Topanga</td>\n",
       "      <td>745</td>\n",
       "      <td>VANDALISM - MISDEAMEANOR ($399 OR UNDER)</td>\n",
       "      <td>84.0</td>\n",
       "      <td>M</td>\n",
       "      <td>W</td>\n",
       "      <td>(34.2009, -118.6369)</td>\n",
       "    </tr>\n",
       "    <tr>\n",
       "      <th>2</th>\n",
       "      <td>5</td>\n",
       "      <td>120125367</td>\n",
       "      <td>2013-01-08</td>\n",
       "      <td>1400</td>\n",
       "      <td>1</td>\n",
       "      <td>Central</td>\n",
       "      <td>110</td>\n",
       "      <td>CRIMINAL HOMICIDE</td>\n",
       "      <td>49.0</td>\n",
       "      <td>F</td>\n",
       "      <td>W</td>\n",
       "      <td>(34.0591, -118.2412)</td>\n",
       "    </tr>\n",
       "    <tr>\n",
       "      <th>3</th>\n",
       "      <td>9</td>\n",
       "      <td>120908292</td>\n",
       "      <td>2013-01-15</td>\n",
       "      <td>800</td>\n",
       "      <td>9</td>\n",
       "      <td>Van Nuys</td>\n",
       "      <td>668</td>\n",
       "      <td>EMBEZZLEMENT, GRAND THEFT ($950.01 &amp; OVER)</td>\n",
       "      <td>27.0</td>\n",
       "      <td>F</td>\n",
       "      <td>O</td>\n",
       "      <td>(34.2012, -118.4662)</td>\n",
       "    </tr>\n",
       "    <tr>\n",
       "      <th>4</th>\n",
       "      <td>12</td>\n",
       "      <td>121207315</td>\n",
       "      <td>2013-02-13</td>\n",
       "      <td>1200</td>\n",
       "      <td>12</td>\n",
       "      <td>77th Street</td>\n",
       "      <td>440</td>\n",
       "      <td>THEFT PLAIN - PETTY ($950 &amp; UNDER)</td>\n",
       "      <td>42.0</td>\n",
       "      <td>M</td>\n",
       "      <td>H</td>\n",
       "      <td>(33.9651, -118.2783)</td>\n",
       "    </tr>\n",
       "  </tbody>\n",
       "</table>\n",
       "</div>"
      ],
      "text/plain": [
       "   Unnamed: 0   DRNumber DateOccurred  TimeOccurred  AreaID     AreaName  \\\n",
       "0           0    1208575   2013-03-11          1800      12  77th Street   \n",
       "1           4   42104479   2014-01-04          2300      21      Topanga   \n",
       "2           5  120125367   2013-01-08          1400       1      Central   \n",
       "3           9  120908292   2013-01-15           800       9     Van Nuys   \n",
       "4          12  121207315   2013-02-13          1200      12  77th Street   \n",
       "\n",
       "   CrimeCode                        CrimeCodeDescription  VictimAge VictimSex  \\\n",
       "0        626           INTIMATE PARTNER - SIMPLE ASSAULT       30.0         F   \n",
       "1        745    VANDALISM - MISDEAMEANOR ($399 OR UNDER)       84.0         M   \n",
       "2        110                           CRIMINAL HOMICIDE       49.0         F   \n",
       "3        668  EMBEZZLEMENT, GRAND THEFT ($950.01 & OVER)       27.0         F   \n",
       "4        440          THEFT PLAIN - PETTY ($950 & UNDER)       42.0         M   \n",
       "\n",
       "  VictimDescent              Location  \n",
       "0             W  (33.9829, -118.3338)  \n",
       "1             W  (34.2009, -118.6369)  \n",
       "2             W  (34.0591, -118.2412)  \n",
       "3             O  (34.2012, -118.4662)  \n",
       "4             H  (33.9651, -118.2783)  "
      ]
     },
     "execution_count": 5,
     "metadata": {},
     "output_type": "execute_result"
    }
   ],
   "source": [
    "df_clean.head()"
   ]
  },
  {
   "cell_type": "code",
   "execution_count": 6,
   "metadata": {},
   "outputs": [
    {
     "data": {
      "text/plain": [
       "Index(['Unnamed: 0', 'DRNumber', 'DateOccurred', 'TimeOccurred', 'AreaID',\n",
       "       'AreaName', 'CrimeCode', 'CrimeCodeDescription', 'VictimAge',\n",
       "       'VictimSex', 'VictimDescent', 'Location'],\n",
       "      dtype='object')"
      ]
     },
     "execution_count": 6,
     "metadata": {},
     "output_type": "execute_result"
    }
   ],
   "source": [
    "df_clean.columns"
   ]
  },
  {
   "cell_type": "code",
   "execution_count": null,
   "metadata": {},
   "outputs": [],
   "source": []
  },
  {
   "cell_type": "code",
   "execution_count": null,
   "metadata": {},
   "outputs": [],
   "source": [
    "areainfo_2017=data_2017_clean.groupby(\"AreaName\")[\"ReportingDistrict\"].count().sort_values(ascending=True).reset_index()\n",
    "areainfo_2010=data_2010_clean.groupby(\"AreaName\")[\"ReportingDistrict\"].count().sort_values(ascending=True).reset_index()\n",
    "\n",
    "\n",
    "areainfo_2017.head()\n"
   ]
  },
  {
   "cell_type": "code",
   "execution_count": null,
   "metadata": {},
   "outputs": [],
   "source": [
    "plt.figure()\n",
    "plt.bar(range(len(areainfo_2017[\"AreaID\"])), areainfo_2017[\"ReportingDistrict\"])\n",
    "plt.title(\"Crime by Area in 2017\")\n",
    "plt.xlabel(\"\")\n",
    "plt.ylabel(\"\")\n",
    "plt.grid()\n",
    "tick_locations = [value for value in np.arange(len(areainfo_2017))]\n",
    "labels = [values for values in areainfo_2017[\"AreaID\"]]\n",
    "plt.xticks([value for value in areainfo_2017.index], labels, rotation=\"vertical\")\n",
    "plt.figure()\n",
    "plt.bar(range(len(areainfo_2010[\"AreaID\"])), areainfo_2010[\"ReportingDistrict\"])\n",
    "plt.title(\"Crime by Area in 2010\")\n",
    "plt.xlabel(\"\")\n",
    "plt.ylabel(\"\")\n",
    "plt.grid()\n",
    "tick_locations = [value for value in np.arange(len(areainfo_2010))]\n",
    "labels = [values for values in areainfo_2010[\"AreaID\"]]\n",
    "plt.xticks([value for value in areainfo_2010.index], labels, rotation=\"vertical\")"
   ]
  },
  {
   "cell_type": "code",
   "execution_count": null,
   "metadata": {},
   "outputs": [],
   "source": [
    "areainfo_2017[\"AreaName\"].head()"
   ]
  },
  {
   "cell_type": "code",
   "execution_count": null,
   "metadata": {},
   "outputs": [],
   "source": [
    "plt.figure()\n",
    "plt.plot(areainfo_2017[\"AreaName\"],areainfo_2017[\"ReportingDistrict\"],label=\"2017\")\n",
    "plt.plot(areainfo_2017[\"AreaName\"],areainfo_2010[\"ReportingDistrict\"],label=\"2010\")\n",
    "plt.legend()\n",
    "plt.xticks(rotation=\"vertical\")\n",
    "plt.ylim(6000,15000)"
   ]
  },
  {
   "cell_type": "code",
   "execution_count": null,
   "metadata": {},
   "outputs": [],
   "source": [
    "distinfo_2017=data_2017_clean.groupby([\"AreaName\",\"ReportingDistrict\"]).count()\n",
    "#distinfo_2010=data_2010_clean.groupby(\"ReportingDistrict\")[\"ReportingDistrict\"].count().sort_values(ascending=True).reset_index()\n",
    "\n",
    "distinfo_2017"
   ]
  },
  {
   "cell_type": "code",
   "execution_count": null,
   "metadata": {},
   "outputs": [],
   "source": []
  }
 ],
 "metadata": {
  "kernelspec": {
   "display_name": "Python 3",
   "language": "python",
   "name": "python3"
  },
  "language_info": {
   "codemirror_mode": {
    "name": "ipython",
    "version": 3
   },
   "file_extension": ".py",
   "mimetype": "text/x-python",
   "name": "python",
   "nbconvert_exporter": "python",
   "pygments_lexer": "ipython3",
   "version": "3.7.0"
  }
 },
 "nbformat": 4,
 "nbformat_minor": 2
}
