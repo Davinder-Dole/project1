{
 "cells": [
  {
   "cell_type": "code",
   "execution_count": 30,
   "metadata": {},
   "outputs": [],
   "source": [
    "import pandas as pd\n",
    "import matplotlib.pyplot as plt\n",
    "import numpy as np\n",
    "from datetime import datetime"
   ]
  },
  {
   "cell_type": "code",
   "execution_count": 31,
   "metadata": {},
   "outputs": [],
   "source": [
    "df=pd.read_csv(\"data/Crime_Data_from_2010_to_Present.csv\")"
   ]
  },
  {
   "cell_type": "code",
   "execution_count": 32,
   "metadata": {},
   "outputs": [],
   "source": [
    "df.columns=[x.strip().replace(\" \",\"\") for x in df.columns]"
   ]
  },
  {
   "cell_type": "code",
   "execution_count": 33,
   "metadata": {},
   "outputs": [
    {
     "data": {
      "text/plain": [
       "Index(['DRNumber', 'DateReported', 'DateOccurred', 'TimeOccurred', 'AreaID',\n",
       "       'AreaName', 'ReportingDistrict', 'CrimeCode', 'CrimeCodeDescription',\n",
       "       'MOCodes', 'VictimAge', 'VictimSex', 'VictimDescent', 'PremiseCode',\n",
       "       'PremiseDescription', 'WeaponUsedCode', 'WeaponDescription',\n",
       "       'StatusCode', 'StatusDescription', 'CrimeCode1', 'CrimeCode2',\n",
       "       'CrimeCode3', 'CrimeCode4', 'Address', 'CrossStreet', 'Location'],\n",
       "      dtype='object')"
      ]
     },
     "execution_count": 33,
     "metadata": {},
     "output_type": "execute_result"
    }
   ],
   "source": [
    "df.columns"
   ]
  },
  {
   "cell_type": "markdown",
   "metadata": {},
   "source": [
    "### Creating a sub data frame called df_clean that only contains the columns of interests before cleaning the data"
   ]
  },
  {
   "cell_type": "code",
   "execution_count": 34,
   "metadata": {},
   "outputs": [],
   "source": [
    "df_clean=df[['DRNumber','DateOccurred', 'TimeOccurred', 'AreaID',\n",
    "       'AreaName', 'CrimeCode', 'CrimeCodeDescription',\n",
    "        'VictimAge', 'VictimSex', 'VictimDescent',\n",
    "        'Location']]\n"
   ]
  },
  {
   "cell_type": "code",
   "execution_count": 26,
   "metadata": {},
   "outputs": [
    {
     "data": {
      "text/plain": [
       "DRNumber                1872169\n",
       "DateOccurred            1872169\n",
       "TimeOccurred            1872169\n",
       "AreaID                  1872169\n",
       "AreaName                1872169\n",
       "CrimeCode               1872169\n",
       "CrimeCodeDescription    1871807\n",
       "VictimAge               1724258\n",
       "VictimSex               1699798\n",
       "VictimDescent           1699756\n",
       "Location                1872160\n",
       "dtype: int64"
      ]
     },
     "execution_count": 26,
     "metadata": {},
     "output_type": "execute_result"
    }
   ],
   "source": [
    "df_clean.count()"
   ]
  },
  {
   "cell_type": "markdown",
   "metadata": {},
   "source": [
    "### Deleting all rows with NaN values"
   ]
  },
  {
   "cell_type": "code",
   "execution_count": 27,
   "metadata": {},
   "outputs": [],
   "source": [
    "df_clean=df_clean.loc[(~(df[\"DRNumber\"].isna())) &\n",
    "                (~(df[\"DateOccurred\"].isna())) &\n",
    "                (~(df[\"TimeOccurred\"].isna())) &\n",
    "                (~(df[\"AreaID\"].isna())) &\n",
    "                (~(df[\"AreaName\"].isna())) &\n",
    "                (~(df[\"CrimeCode\"].isna())) &\n",
    "                (~(df[\"CrimeCodeDescription\"].isna())) &\n",
    "                (~(df[\"VictimAge\"].isna())) &\n",
    "                (~(df[\"VictimSex\"].isna()))&\n",
    "                (~(df[\"VictimDescent\"].isna())) &\n",
    "                (~(df[\"Location\"].isna())) ]"
   ]
  },
  {
   "cell_type": "code",
   "execution_count": 39,
   "metadata": {},
   "outputs": [
    {
     "data": {
      "text/plain": [
       "DRNumber                1872169\n",
       "DateOccurred            1872169\n",
       "TimeOccurred            1872169\n",
       "AreaID                  1872169\n",
       "AreaName                1872169\n",
       "CrimeCode               1872169\n",
       "CrimeCodeDescription    1871807\n",
       "VictimAge               1724258\n",
       "VictimSex               1699798\n",
       "VictimDescent           1699756\n",
       "Location                1872160\n",
       "dtype: int64"
      ]
     },
     "execution_count": 39,
     "metadata": {},
     "output_type": "execute_result"
    }
   ],
   "source": [
    "df_clean.count()"
   ]
  },
  {
   "cell_type": "code",
   "execution_count": 40,
   "metadata": {},
   "outputs": [
    {
     "data": {
      "text/plain": [
       "DRNumber                  int64\n",
       "DateOccurred             object\n",
       "TimeOccurred              int64\n",
       "AreaID                    int64\n",
       "AreaName                 object\n",
       "CrimeCode                 int64\n",
       "CrimeCodeDescription     object\n",
       "VictimAge               float64\n",
       "VictimSex                object\n",
       "VictimDescent            object\n",
       "Location                 object\n",
       "dtype: object"
      ]
     },
     "execution_count": 40,
     "metadata": {},
     "output_type": "execute_result"
    }
   ],
   "source": [
    "df_clean.dtypes"
   ]
  },
  {
   "cell_type": "code",
   "execution_count": null,
   "metadata": {},
   "outputs": [],
   "source": []
  },
  {
   "cell_type": "code",
   "execution_count": 41,
   "metadata": {},
   "outputs": [
    {
     "name": "stderr",
     "output_type": "stream",
     "text": [
      "/anaconda3/lib/python3.7/site-packages/ipykernel_launcher.py:1: SettingWithCopyWarning: \n",
      "A value is trying to be set on a copy of a slice from a DataFrame.\n",
      "Try using .loc[row_indexer,col_indexer] = value instead\n",
      "\n",
      "See the caveats in the documentation: http://pandas.pydata.org/pandas-docs/stable/indexing.html#indexing-view-versus-copy\n",
      "  \"\"\"Entry point for launching an IPython kernel.\n"
     ]
    }
   ],
   "source": [
    "df_clean[\"DateOccurred\"]=pd.to_datetime(df_clean[\"DateOccurred\"])\n"
   ]
  },
  {
   "cell_type": "markdown",
   "metadata": {},
   "source": [
    "for df in data_list:\n",
    "    "
   ]
  },
  {
   "cell_type": "code",
   "execution_count": null,
   "metadata": {},
   "outputs": [],
   "source": [
    "data_2017=pd.read_csv(\"data/data_2017.csv\")\n",
    "data_2016=pd.read_csv(\"data/data_2016.csv\")\n",
    "data_2015=pd.read_csv(\"data/data_2015.csv\")\n",
    "data_2014=pd.read_csv(\"data/data_2014.csv\")\n",
    "data_2013=pd.read_csv(\"data/data_2013.csv\")\n",
    "data_2012=pd.read_csv(\"data/data_2012.csv\")\n",
    "data_2011=pd.read_csv(\"data/data_2011.csv\")\n",
    "data_2010=pd.read_csv(\"data/data_2010.csv\")\n",
    "\n",
    "names_list=[\"data_2010\",\"data_2011\",\"data_2012\",\"data_2013\",\"data_2014\",\"data_2015\",\"data_2016\",\"data_2017\"]\n",
    "\n",
    "for names in names_list:\n",
    "    names.columns=[x.strip().replace(\" \",\"\") for x in names.columns]\n",
    "    \n",
    "data_2017.columns=[x.strip().replace(\" \",\"\") for x in data_2017.columns]\n",
    "data_2016.columns=[x.strip().replace(\" \",\"\") for x in data_2016.columns]\n",
    "data_2015.columns=[x.strip().replace(\" \",\"\") for x in data_2015.columns]\n",
    "data_2014.columns=[x.strip().replace(\" \",\"\") for x in data_2014.columns]\n",
    "data_2013.columns=[x.strip().replace(\" \",\"\") for x in data_2013.columns]\n",
    "data_2012.columns=[x.strip().replace(\" \",\"\") for x in data_2012.columns]\n",
    "data_2011.columns=[x.strip().replace(\" \",\"\") for x in data_2011.columns]\n",
    "data_2010.columns=[x.strip().replace(\" \",\"\") for x in data_2010.columns]\n",
    "\n",
    "print(data_2017.columns)\n",
    "\n",
    "data_2017[\"DateReported\"]=pd.to_datetime(data_2017[\"DateReported\"])\n",
    "data_2017[\"DateOccurred\"]=pd.to_datetime(data_2017[\"DateOccurred\"])\n",
    "data_2010[\"DateReported\"]=pd.to_datetime(data_2010[\"DateReported\"])\n",
    "data_2010[\"DateOccurred\"]=pd.to_datetime(data_2010[\"DateOccurred\"])"
   ]
  },
  {
   "cell_type": "code",
   "execution_count": null,
   "metadata": {},
   "outputs": [],
   "source": [
    "data_2017.head(50)"
   ]
  },
  {
   "cell_type": "code",
   "execution_count": null,
   "metadata": {},
   "outputs": [],
   "source": [
    "print(len(~(data_2017[\"WeaponDescription\"].isna())))\n",
    "print(len(data_2017[\"WeaponDescription\"].dropna()))\n",
    "#aa=data_2017[\"CrimeCode\"].drop_duplicates()\n",
    "#print(len(aa))\n",
    "bb=data_2017[\"CrimeCodeDescription\"].drop_duplicates()\n",
    "print(len(bb))\n",
    "a=data_2017.groupby([\"CrimeCode\",\"CrimeCodeDescription\"])[\"AreaName\"].count().reset_index().sort_values(by=\"AreaName\",ascending=False)\n",
    "print(a.head(95))\n",
    "b=a[a.duplicated(\"CrimeCode\")]\n",
    "b\n",
    "\n"
   ]
  },
  {
   "cell_type": "code",
   "execution_count": null,
   "metadata": {},
   "outputs": [],
   "source": []
  },
  {
   "cell_type": "code",
   "execution_count": null,
   "metadata": {},
   "outputs": [],
   "source": []
  },
  {
   "cell_type": "code",
   "execution_count": null,
   "metadata": {},
   "outputs": [],
   "source": []
  },
  {
   "cell_type": "code",
   "execution_count": null,
   "metadata": {},
   "outputs": [],
   "source": [
    "data_2017_clean=data_2017.loc[(~(data_2017[\"AreaName\"].isna())) & (~(data_2017[\"VictimAge\"].isna()))]\n",
    "data_2010_clean=data_2010.loc[(~(data_2017[\"AreaName\"].isna())) & (~(data_2017[\"VictimAge\"].isna()))]"
   ]
  },
  {
   "cell_type": "code",
   "execution_count": null,
   "metadata": {},
   "outputs": [],
   "source": [
    "print(data_2017_clean[\"VictimAge\"].isna().count())\n",
    "print(data_2017[\"VictimAge\"].count())\n",
    "print(data_2017[\"VictimAge\"].dtype)"
   ]
  },
  {
   "cell_type": "code",
   "execution_count": null,
   "metadata": {},
   "outputs": [],
   "source": [
    "areainfo_2017=data_2017_clean.groupby(\"AreaName\")[\"ReportingDistrict\"].count().sort_values(ascending=True).reset_index()\n",
    "areainfo_2010=data_2010_clean.groupby(\"AreaName\")[\"ReportingDistrict\"].count().sort_values(ascending=True).reset_index()\n",
    "\n",
    "\n",
    "areainfo_2017.head()\n"
   ]
  },
  {
   "cell_type": "code",
   "execution_count": null,
   "metadata": {},
   "outputs": [],
   "source": [
    "plt.figure()\n",
    "plt.bar(range(len(areainfo_2017[\"AreaID\"])), areainfo_2017[\"ReportingDistrict\"])\n",
    "plt.title(\"Crime by Area in 2017\")\n",
    "plt.xlabel(\"\")\n",
    "plt.ylabel(\"\")\n",
    "plt.grid()\n",
    "tick_locations = [value for value in np.arange(len(areainfo_2017))]\n",
    "labels = [values for values in areainfo_2017[\"AreaID\"]]\n",
    "plt.xticks([value for value in areainfo_2017.index], labels, rotation=\"vertical\")\n",
    "plt.figure()\n",
    "plt.bar(range(len(areainfo_2010[\"AreaID\"])), areainfo_2010[\"ReportingDistrict\"])\n",
    "plt.title(\"Crime by Area in 2010\")\n",
    "plt.xlabel(\"\")\n",
    "plt.ylabel(\"\")\n",
    "plt.grid()\n",
    "tick_locations = [value for value in np.arange(len(areainfo_2010))]\n",
    "labels = [values for values in areainfo_2010[\"AreaID\"]]\n",
    "plt.xticks([value for value in areainfo_2010.index], labels, rotation=\"vertical\")"
   ]
  },
  {
   "cell_type": "code",
   "execution_count": null,
   "metadata": {},
   "outputs": [],
   "source": [
    "areainfo_2017[\"AreaName\"].head()"
   ]
  },
  {
   "cell_type": "code",
   "execution_count": null,
   "metadata": {},
   "outputs": [],
   "source": [
    "plt.figure()\n",
    "plt.plot(areainfo_2017[\"AreaName\"],areainfo_2017[\"ReportingDistrict\"],label=\"2017\")\n",
    "plt.plot(areainfo_2017[\"AreaName\"],areainfo_2010[\"ReportingDistrict\"],label=\"2010\")\n",
    "plt.legend()\n",
    "plt.xticks(rotation=\"vertical\")\n",
    "plt.ylim(6000,15000)"
   ]
  },
  {
   "cell_type": "code",
   "execution_count": null,
   "metadata": {},
   "outputs": [],
   "source": [
    "distinfo_2017=data_2017_clean.groupby([\"AreaName\",\"ReportingDistrict\"]).count()\n",
    "#distinfo_2010=data_2010_clean.groupby(\"ReportingDistrict\")[\"ReportingDistrict\"].count().sort_values(ascending=True).reset_index()\n",
    "\n",
    "distinfo_2017"
   ]
  },
  {
   "cell_type": "code",
   "execution_count": null,
   "metadata": {},
   "outputs": [],
   "source": []
  }
 ],
 "metadata": {
  "kernelspec": {
   "display_name": "Python 3",
   "language": "python",
   "name": "python3"
  },
  "language_info": {
   "codemirror_mode": {
    "name": "ipython",
    "version": 3
   },
   "file_extension": ".py",
   "mimetype": "text/x-python",
   "name": "python",
   "nbconvert_exporter": "python",
   "pygments_lexer": "ipython3",
   "version": "3.7.0"
  }
 },
 "nbformat": 4,
 "nbformat_minor": 2
}
