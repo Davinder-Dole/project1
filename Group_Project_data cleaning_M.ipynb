{
 "cells": [
  {
   "cell_type": "code",
   "execution_count": 1,
   "metadata": {},
   "outputs": [],
   "source": [
    "import pandas as pd\n",
    "import matplotlib.pyplot as plt\n",
    "import numpy as np\n",
    "from datetime import datetime"
   ]
  },
  {
   "cell_type": "code",
   "execution_count": 2,
   "metadata": {},
   "outputs": [],
   "source": [
    "df=pd.read_csv(\"data/Crime_Data_from_2010_to_Present.csv\")"
   ]
  },
  {
   "cell_type": "code",
   "execution_count": 3,
   "metadata": {},
   "outputs": [],
   "source": [
    "df.columns=[x.strip().replace(\" \",\"\") for x in df.columns]"
   ]
  },
  {
   "cell_type": "code",
   "execution_count": 6,
   "metadata": {},
   "outputs": [
    {
     "data": {
      "text/plain": [
       "Index(['DRNumber', 'DateReported', 'DateOccurred', 'TimeOccurred', 'AreaID',\n",
       "       'AreaName', 'ReportingDistrict', 'CrimeCode', 'CrimeCodeDescription',\n",
       "       'MOCodes', 'VictimAge', 'VictimSex', 'VictimDescent', 'PremiseCode',\n",
       "       'PremiseDescription', 'WeaponUsedCode', 'WeaponDescription',\n",
       "       'StatusCode', 'StatusDescription', 'CrimeCode1', 'CrimeCode2',\n",
       "       'CrimeCode3', 'CrimeCode4', 'Address', 'CrossStreet', 'Location'],\n",
       "      dtype='object')"
      ]
     },
     "execution_count": 6,
     "metadata": {},
     "output_type": "execute_result"
    }
   ],
   "source": [
    "df.columns"
   ]
  },
  {
   "cell_type": "markdown",
   "metadata": {},
   "source": [
    "### Creating a sub data frame called df_clean that only contains the columns of interests before cleaning the data"
   ]
  },
  {
   "cell_type": "code",
   "execution_count": 9,
   "metadata": {},
   "outputs": [
    {
     "data": {
      "text/plain": [
       "Index(['DRNumber', 'DateOccurred', 'TimeOccurred', 'AreaID', 'AreaName',\n",
       "       'CrimeCode', 'CrimeCodeDescription', 'VictimAge', 'VictimSex',\n",
       "       'VictimDescent', 'Location'],\n",
       "      dtype='object')"
      ]
     },
     "execution_count": 9,
     "metadata": {},
     "output_type": "execute_result"
    }
   ],
   "source": [
    "df_clean=df[['DRNumber','DateOccurred', 'TimeOccurred', 'AreaID',\n",
    "       'AreaName', 'CrimeCode', 'CrimeCodeDescription',\n",
    "        'VictimAge', 'VictimSex', 'VictimDescent',\n",
    "        'Location']]\n",
    "df_clean.columns"
   ]
  },
  {
   "cell_type": "code",
   "execution_count": 10,
   "metadata": {},
   "outputs": [
    {
     "data": {
      "text/plain": [
       "DRNumber                1872169\n",
       "DateOccurred            1872169\n",
       "TimeOccurred            1872169\n",
       "AreaID                  1872169\n",
       "AreaName                1872169\n",
       "CrimeCode               1872169\n",
       "CrimeCodeDescription    1871807\n",
       "VictimAge               1724258\n",
       "VictimSex               1699798\n",
       "VictimDescent           1699756\n",
       "Location                1872160\n",
       "dtype: int64"
      ]
     },
     "execution_count": 10,
     "metadata": {},
     "output_type": "execute_result"
    }
   ],
   "source": [
    "df_clean.count()"
   ]
  },
  {
   "cell_type": "markdown",
   "metadata": {},
   "source": [
    "### Deleting all rows with NaN values"
   ]
  },
  {
   "cell_type": "code",
   "execution_count": 11,
   "metadata": {},
   "outputs": [],
   "source": [
    "df_clean=df_clean.loc[(~(df[\"DRNumber\"].isna())) &\n",
    "                (~(df[\"DateOccurred\"].isna())) &\n",
    "                (~(df[\"TimeOccurred\"].isna())) &\n",
    "                (~(df[\"AreaID\"].isna())) &\n",
    "                (~(df[\"AreaName\"].isna())) &\n",
    "                (~(df[\"CrimeCode\"].isna())) &\n",
    "                (~(df[\"CrimeCodeDescription\"].isna())) &\n",
    "                (~(df[\"VictimAge\"].isna())) &\n",
    "                (~(df[\"VictimSex\"].isna()))&\n",
    "                (~(df[\"VictimDescent\"].isna())) &\n",
    "                (~(df[\"Location\"].isna())) ]"
   ]
  },
  {
   "cell_type": "code",
   "execution_count": 12,
   "metadata": {},
   "outputs": [
    {
     "data": {
      "text/plain": [
       "DRNumber                1571677\n",
       "DateOccurred            1571677\n",
       "TimeOccurred            1571677\n",
       "AreaID                  1571677\n",
       "AreaName                1571677\n",
       "CrimeCode               1571677\n",
       "CrimeCodeDescription    1571677\n",
       "VictimAge               1571677\n",
       "VictimSex               1571677\n",
       "VictimDescent           1571677\n",
       "Location                1571677\n",
       "dtype: int64"
      ]
     },
     "execution_count": 12,
     "metadata": {},
     "output_type": "execute_result"
    }
   ],
   "source": [
    "df_clean.count()"
   ]
  },
  {
   "cell_type": "code",
   "execution_count": 13,
   "metadata": {},
   "outputs": [
    {
     "data": {
      "text/plain": [
       "DRNumber                  int64\n",
       "DateOccurred             object\n",
       "TimeOccurred              int64\n",
       "AreaID                    int64\n",
       "AreaName                 object\n",
       "CrimeCode                 int64\n",
       "CrimeCodeDescription     object\n",
       "VictimAge               float64\n",
       "VictimSex                object\n",
       "VictimDescent            object\n",
       "Location                 object\n",
       "dtype: object"
      ]
     },
     "execution_count": 13,
     "metadata": {},
     "output_type": "execute_result"
    }
   ],
   "source": [
    "df_clean.dtypes"
   ]
  },
  {
   "cell_type": "code",
   "execution_count": null,
   "metadata": {},
   "outputs": [],
   "source": []
  },
  {
   "cell_type": "code",
   "execution_count": null,
   "metadata": {},
   "outputs": [],
   "source": [
    "df_clean[\"DateOccurred\"]=pd.to_datetime(df_clean[\"DateOccurred\"])\n"
   ]
  },
  {
   "cell_type": "code",
   "execution_count": null,
   "metadata": {},
   "outputs": [],
   "source": []
  },
  {
   "cell_type": "code",
   "execution_count": null,
   "metadata": {},
   "outputs": [],
   "source": []
  },
  {
   "cell_type": "code",
   "execution_count": null,
   "metadata": {},
   "outputs": [],
   "source": []
  },
  {
   "cell_type": "code",
   "execution_count": null,
   "metadata": {},
   "outputs": [],
   "source": []
  },
  {
   "cell_type": "code",
   "execution_count": null,
   "metadata": {},
   "outputs": [],
   "source": []
  },
  {
   "cell_type": "code",
   "execution_count": null,
   "metadata": {},
   "outputs": [],
   "source": []
  }
 ],
 "metadata": {
  "kernelspec": {
   "display_name": "Python 3",
   "language": "python",
   "name": "python3"
  },
  "language_info": {
   "codemirror_mode": {
    "name": "ipython",
    "version": 3
   },
   "file_extension": ".py",
   "mimetype": "text/x-python",
   "name": "python",
   "nbconvert_exporter": "python",
   "pygments_lexer": "ipython3",
   "version": "3.7.0"
  }
 },
 "nbformat": 4,
 "nbformat_minor": 2
}
