{
 "cells": [
  {
   "cell_type": "code",
   "execution_count": 1,
   "metadata": {},
   "outputs": [],
   "source": [
    "import pandas as pd\n",
    "import matplotlib.pyplot as plt\n",
    "import numpy as np\n",
    "from datetime import datetime"
   ]
  },
  {
   "cell_type": "code",
   "execution_count": 2,
   "metadata": {},
   "outputs": [],
   "source": [
    "df=pd.read_csv(\"data/Crime_Data_from_2010_to_Present.csv\")"
   ]
  },
  {
   "cell_type": "code",
   "execution_count": 3,
   "metadata": {},
   "outputs": [],
   "source": [
    "df.columns=[x.strip().replace(\" \",\"\") for x in df.columns]"
   ]
  },
  {
   "cell_type": "code",
   "execution_count": null,
   "metadata": {},
   "outputs": [],
   "source": []
  },
  {
   "cell_type": "markdown",
   "metadata": {},
   "source": [
    "### Creating a sub data frame called df_clean that only contains the columns of interests before cleaning the data"
   ]
  },
  {
   "cell_type": "code",
   "execution_count": 4,
   "metadata": {},
   "outputs": [
    {
     "data": {
      "text/plain": [
       "Index(['DRNumber', 'DateOccurred', 'TimeOccurred', 'AreaID', 'AreaName',\n",
       "       'CrimeCode', 'CrimeCodeDescription', 'VictimAge', 'VictimSex',\n",
       "       'VictimDescent', 'Location'],\n",
       "      dtype='object')"
      ]
     },
     "execution_count": 4,
     "metadata": {},
     "output_type": "execute_result"
    }
   ],
   "source": [
    "df_clean=df[['DRNumber','DateOccurred', 'TimeOccurred', 'AreaID',\n",
    "       'AreaName', 'CrimeCode', 'CrimeCodeDescription',\n",
    "        'VictimAge', 'VictimSex', 'VictimDescent',\n",
    "        'Location']]\n",
    "df_clean.columns"
   ]
  },
  {
   "cell_type": "code",
   "execution_count": 5,
   "metadata": {},
   "outputs": [
    {
     "data": {
      "text/plain": [
       "DRNumber                1876645\n",
       "DateOccurred            1876645\n",
       "TimeOccurred            1876645\n",
       "AreaID                  1876645\n",
       "AreaName                1876645\n",
       "CrimeCode               1876645\n",
       "CrimeCodeDescription    1876283\n",
       "VictimAge               1728442\n",
       "VictimSex               1703856\n",
       "VictimDescent           1703814\n",
       "Location                1876636\n",
       "dtype: int64"
      ]
     },
     "execution_count": 5,
     "metadata": {},
     "output_type": "execute_result"
    }
   ],
   "source": [
    "df_clean.count()"
   ]
  },
  {
   "cell_type": "markdown",
   "metadata": {},
   "source": [
    "### Deleting all rows with NaN values"
   ]
  },
  {
   "cell_type": "code",
   "execution_count": 6,
   "metadata": {},
   "outputs": [],
   "source": [
    "df_clean=df_clean.loc[(~(df[\"DRNumber\"].isna())) &\n",
    "                (~(df[\"DateOccurred\"].isna())) &\n",
    "                (~(df[\"TimeOccurred\"].isna())) &\n",
    "                (~(df[\"AreaID\"].isna())) &\n",
    "                (~(df[\"AreaName\"].isna())) &\n",
    "                (~(df[\"CrimeCode\"].isna())) &\n",
    "                (~(df[\"CrimeCodeDescription\"].isna())) &\n",
    "                (~(df[\"VictimAge\"].isna())) &\n",
    "                (~(df[\"VictimSex\"].isna()))&\n",
    "                (~(df[\"VictimDescent\"].isna())) &\n",
    "                (~(df[\"Location\"].isna())) ]"
   ]
  },
  {
   "cell_type": "code",
   "execution_count": 7,
   "metadata": {},
   "outputs": [
    {
     "data": {
      "text/plain": [
       "DRNumber                1575443\n",
       "DateOccurred            1575443\n",
       "TimeOccurred            1575443\n",
       "AreaID                  1575443\n",
       "AreaName                1575443\n",
       "CrimeCode               1575443\n",
       "CrimeCodeDescription    1575443\n",
       "VictimAge               1575443\n",
       "VictimSex               1575443\n",
       "VictimDescent           1575443\n",
       "Location                1575443\n",
       "dtype: int64"
      ]
     },
     "execution_count": 7,
     "metadata": {},
     "output_type": "execute_result"
    }
   ],
   "source": [
    "df_clean.count()"
   ]
  },
  {
   "cell_type": "code",
   "execution_count": 8,
   "metadata": {},
   "outputs": [
    {
     "data": {
      "text/plain": [
       "DRNumber                  int64\n",
       "DateOccurred             object\n",
       "TimeOccurred              int64\n",
       "AreaID                    int64\n",
       "AreaName                 object\n",
       "CrimeCode                 int64\n",
       "CrimeCodeDescription     object\n",
       "VictimAge               float64\n",
       "VictimSex                object\n",
       "VictimDescent            object\n",
       "Location                 object\n",
       "dtype: object"
      ]
     },
     "execution_count": 8,
     "metadata": {},
     "output_type": "execute_result"
    }
   ],
   "source": [
    "df_clean.dtypes"
   ]
  },
  {
   "cell_type": "code",
   "execution_count": 9,
   "metadata": {},
   "outputs": [],
   "source": [
    "df_clean.to_csv(\"data/df_clean.csv\",index= False)"
   ]
  },
  {
   "cell_type": "code",
   "execution_count": 12,
   "metadata": {},
   "outputs": [
    {
     "data": {
      "text/html": [
       "<div>\n",
       "<style scoped>\n",
       "    .dataframe tbody tr th:only-of-type {\n",
       "        vertical-align: middle;\n",
       "    }\n",
       "\n",
       "    .dataframe tbody tr th {\n",
       "        vertical-align: top;\n",
       "    }\n",
       "\n",
       "    .dataframe thead th {\n",
       "        text-align: right;\n",
       "    }\n",
       "</style>\n",
       "<table border=\"1\" class=\"dataframe\">\n",
       "  <thead>\n",
       "    <tr style=\"text-align: right;\">\n",
       "      <th></th>\n",
       "      <th>CrimeCodeDescription</th>\n",
       "      <th>NewCrimeCategory</th>\n",
       "      <th>Violent_NonViolent</th>\n",
       "    </tr>\n",
       "  </thead>\n",
       "  <tbody>\n",
       "    <tr>\n",
       "      <th>0</th>\n",
       "      <td>BATTERY - SIMPLE ASSAULT</td>\n",
       "      <td>ASSAULT AND BATTERY</td>\n",
       "      <td>VIOLENT</td>\n",
       "    </tr>\n",
       "    <tr>\n",
       "      <th>1</th>\n",
       "      <td>BURGLARY FROM VEHICLE</td>\n",
       "      <td>ROBBERY/BURGLARY</td>\n",
       "      <td>VIOLENT</td>\n",
       "    </tr>\n",
       "    <tr>\n",
       "      <th>2</th>\n",
       "      <td>VEHICLE - STOLEN</td>\n",
       "      <td>THEFT</td>\n",
       "      <td>NON-VIOLENT</td>\n",
       "    </tr>\n",
       "    <tr>\n",
       "      <th>3</th>\n",
       "      <td>BURGLARY</td>\n",
       "      <td>ROBBERY/BURGLARY</td>\n",
       "      <td>VIOLENT</td>\n",
       "    </tr>\n",
       "    <tr>\n",
       "      <th>4</th>\n",
       "      <td>THEFT PLAIN - PETTY ($950 &amp; UNDER)</td>\n",
       "      <td>THEFT</td>\n",
       "      <td>NON-VIOLENT</td>\n",
       "    </tr>\n",
       "  </tbody>\n",
       "</table>\n",
       "</div>"
      ],
      "text/plain": [
       "                 CrimeCodeDescription     NewCrimeCategory Violent_NonViolent\n",
       "0            BATTERY - SIMPLE ASSAULT  ASSAULT AND BATTERY            VIOLENT\n",
       "1               BURGLARY FROM VEHICLE     ROBBERY/BURGLARY            VIOLENT\n",
       "2                    VEHICLE - STOLEN                THEFT        NON-VIOLENT\n",
       "3                            BURGLARY     ROBBERY/BURGLARY            VIOLENT\n",
       "4  THEFT PLAIN - PETTY ($950 & UNDER)                THEFT        NON-VIOLENT"
      ]
     },
     "execution_count": 12,
     "metadata": {},
     "output_type": "execute_result"
    }
   ],
   "source": [
    "crime_cat_df= pd.read_excel(\"crimecode_desc_update.xlsx\")\n",
    "crime_cat_df.head()"
   ]
  },
  {
   "cell_type": "code",
   "execution_count": 13,
   "metadata": {},
   "outputs": [],
   "source": [
    "cc_df = df_clean.merge(crime_cat_df, on=\"CrimeCodeDescription\", how=\"outer\")"
   ]
  },
  {
   "cell_type": "code",
   "execution_count": 14,
   "metadata": {},
   "outputs": [
    {
     "data": {
      "text/plain": [
       "ROBBERY/BURGLARY            355027\n",
       "THEFT                       336158\n",
       "ASSAULT AND BATTERY         278675\n",
       "OTHER NON-VIOLENT CRIMES    173235\n",
       "VANDALISM                   159752\n",
       "IDENTITY THEFT              113512\n",
       "AGGRAVATED ASSAULT           92453\n",
       "OTHER VIOLENT CRIMES         25787\n",
       "RAPE/SEXUAL ASSAULT          19290\n",
       "CRIMES AGAINST CHILDREN      10545\n",
       "OTHER SEX CRIMES              8572\n",
       "HOMICIDE                      2437\n",
       "Name: NewCrimeCategory, dtype: int64"
      ]
     },
     "execution_count": 14,
     "metadata": {},
     "output_type": "execute_result"
    }
   ],
   "source": [
    "cc_df[\"NewCrimeCategory\"].value_counts()"
   ]
  },
  {
   "cell_type": "code",
   "execution_count": 15,
   "metadata": {},
   "outputs": [
    {
     "data": {
      "text/plain": [
       "(1575443, 13)"
      ]
     },
     "execution_count": 15,
     "metadata": {},
     "output_type": "execute_result"
    }
   ],
   "source": [
    "cc_df.shape"
   ]
  },
  {
   "cell_type": "code",
   "execution_count": 16,
   "metadata": {},
   "outputs": [],
   "source": [
    "cc_df.to_csv(\"data/df_clean2.csv\",index = False)"
   ]
  },
  {
   "cell_type": "code",
   "execution_count": 17,
   "metadata": {},
   "outputs": [
    {
     "data": {
      "text/plain": [
       "DRNumber                1575443\n",
       "DateOccurred            1575443\n",
       "TimeOccurred            1575443\n",
       "AreaID                  1575443\n",
       "AreaName                1575443\n",
       "CrimeCode               1575443\n",
       "CrimeCodeDescription    1575443\n",
       "VictimAge               1575443\n",
       "VictimSex               1575443\n",
       "VictimDescent           1575443\n",
       "Location                1575443\n",
       "NewCrimeCategory        1575443\n",
       "Violent_NonViolent      1575443\n",
       "dtype: int64"
      ]
     },
     "execution_count": 17,
     "metadata": {},
     "output_type": "execute_result"
    }
   ],
   "source": [
    "cc_df.count()"
   ]
  },
  {
   "cell_type": "code",
   "execution_count": null,
   "metadata": {},
   "outputs": [],
   "source": []
  }
 ],
 "metadata": {
  "kernelspec": {
   "display_name": "Python 3",
   "language": "python",
   "name": "python3"
  },
  "language_info": {
   "codemirror_mode": {
    "name": "ipython",
    "version": 3
   },
   "file_extension": ".py",
   "mimetype": "text/x-python",
   "name": "python",
   "nbconvert_exporter": "python",
   "pygments_lexer": "ipython3",
   "version": "3.7.0"
  }
 },
 "nbformat": 4,
 "nbformat_minor": 2
}
