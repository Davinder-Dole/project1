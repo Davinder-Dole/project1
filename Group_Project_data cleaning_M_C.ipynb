{
 "cells": [
  {
   "cell_type": "code",
   "execution_count": null,
   "metadata": {},
   "outputs": [],
   "source": [
    "import pandas as pd\n",
    "import matplotlib.pyplot as plt\n",
    "import numpy as np\n",
    "from datetime import datetime"
   ]
  },
  {
   "cell_type": "code",
   "execution_count": null,
   "metadata": {},
   "outputs": [],
   "source": [
    "# read csv with date columns formated as datetime64\n",
    "df = pd.read_csv(\"data/Crime_Data_from_2010_to_Present.csv\", parse_dates=['Date Reported', 'Date Occurred'], low_memory=True)\n",
    "df.columns"
   ]
  },
  {
   "cell_type": "code",
   "execution_count": null,
   "metadata": {},
   "outputs": [],
   "source": [
    "df.columns=[x.strip().replace(\" \",\"\") for x in df.columns]"
   ]
  },
  {
   "cell_type": "markdown",
   "metadata": {},
   "source": [
    "### Creating a sub data frame called df_clean that only contains the columns of interests before cleaning the data"
   ]
  },
  {
   "cell_type": "code",
   "execution_count": null,
   "metadata": {},
   "outputs": [],
   "source": [
    "df_clean=df[['DRNumber','DateOccurred', 'TimeOccurred', 'AreaID',\n",
    "       'AreaName', 'CrimeCode', 'CrimeCodeDescription',\n",
    "        'VictimAge', 'VictimSex', 'VictimDescent',\n",
    "        'Location']]\n",
    "df_clean.columns"
   ]
  },
  {
   "cell_type": "code",
   "execution_count": null,
   "metadata": {},
   "outputs": [],
   "source": [
    "df_clean.count()"
   ]
  },
  {
   "cell_type": "markdown",
   "metadata": {},
   "source": [
    "### Deleting all rows with NaN values"
   ]
  },
  {
   "cell_type": "code",
   "execution_count": null,
   "metadata": {},
   "outputs": [],
   "source": [
    "df_clean=df_clean.loc[(~(df[\"DRNumber\"].isna())) &\n",
    "                (~(df[\"DateOccurred\"].isna())) &\n",
    "                (~(df[\"TimeOccurred\"].isna())) &\n",
    "                (~(df[\"AreaID\"].isna())) &\n",
    "                (~(df[\"AreaName\"].isna())) &\n",
    "                (~(df[\"CrimeCode\"].isna())) &\n",
    "                (~(df[\"CrimeCodeDescription\"].isna())) &\n",
    "                (~(df[\"VictimAge\"].isna())) &\n",
    "                (~(df[\"VictimSex\"].isna()))&\n",
    "                (~(df[\"VictimDescent\"].isna())) &\n",
    "                (~(df[\"Location\"].isna())) ]"
   ]
  },
  {
   "cell_type": "code",
   "execution_count": null,
   "metadata": {},
   "outputs": [],
   "source": [
    "df_clean.count()"
   ]
  },
  {
   "cell_type": "code",
   "execution_count": null,
   "metadata": {},
   "outputs": [],
   "source": [
    "df_clean.dtypes"
   ]
  },
  {
   "cell_type": "code",
   "execution_count": null,
   "metadata": {},
   "outputs": [],
   "source": [
    "df_clean.to_csv(\"df_clean.csv\",index= False)"
   ]
  },
  {
   "cell_type": "code",
   "execution_count": null,
   "metadata": {},
   "outputs": [],
   "source": [
    "crime_cat_df= pd.read_excel(\"crimecode_desc_update.xlsx\")\n",
    "crime_cat_df.head()"
   ]
  },
  {
   "cell_type": "code",
   "execution_count": null,
   "metadata": {},
   "outputs": [],
   "source": [
    "cc_df = df_clean.merge(crime_cat_df, on=\"CrimeCodeDescription\", how=\"outer\")"
   ]
  },
  {
   "cell_type": "code",
   "execution_count": null,
   "metadata": {},
   "outputs": [],
   "source": [
    "cc_df[\"NewCrimeCategory\"].value_counts()"
   ]
  },
  {
   "cell_type": "code",
   "execution_count": null,
   "metadata": {},
   "outputs": [],
   "source": [
    "cc_df.shape"
   ]
  },
  {
   "cell_type": "code",
   "execution_count": null,
   "metadata": {},
   "outputs": [],
   "source": [
    "# Separate Location Column into separate lat_lng coordinates and create zipcode list for 60,926 unique Location coords\n",
    "\n",
    "from uszipcode import SearchEngine\n",
    "search = SearchEngine(simple_zipcode=True)\n",
    "\n",
    "df_coords = cc_df['Location'].unique()\n",
    "zip_codes = []\n",
    "location_list = []\n",
    "pop_list = []\n",
    "\n",
    "#Print completed for every 1000\n",
    "\n",
    "for i, coord in enumerate(df_coords):\n",
    "    if i % 1000 == 0: print('Completed', i)\n",
    "    location_list.append(coord)\n",
    "    coord = coord.replace(' ', '')[1:-1]\n",
    "    splits = coord.split(',')\n",
    "    lat = float(splits[0])\n",
    "    long = float(splits[1])\n",
    "    zipcodes = search.by_coordinates(lat=lat, lng=long)\n",
    "\n",
    "    if zipcodes:\n",
    "        zip_codes.append(zipcodes[0].zipcode)\n",
    "        pop_list.append(zipcodes[0].population)\n",
    "    else:\n",
    "        zip_codes.append('not found')\n",
    "        pop_list.append(0)"
   ]
  },
  {
   "cell_type": "code",
   "execution_count": null,
   "metadata": {},
   "outputs": [],
   "source": [
    "len(cc_df['Location'].unique())"
   ]
  },
  {
   "cell_type": "code",
   "execution_count": null,
   "metadata": {},
   "outputs": [],
   "source": [
    "# create new zipcode_df to merge with cc_df \n",
    "\n",
    "zipcode_df = pd.DataFrame({'Location': location_list, 'Zip_codes': zip_codes, 'Population': pop_list})\n",
    "zipcode_df.head()"
   ]
  },
  {
   "cell_type": "code",
   "execution_count": null,
   "metadata": {},
   "outputs": [],
   "source": [
    "zipcode_df.info()"
   ]
  },
  {
   "cell_type": "code",
   "execution_count": null,
   "metadata": {},
   "outputs": [],
   "source": [
    "#save new zipcode_df as csv file for merge\n",
    "\n",
    "zipcode_df.to_csv(\"zip_codes.csv\",index = False)"
   ]
  },
  {
   "cell_type": "code",
   "execution_count": null,
   "metadata": {},
   "outputs": [],
   "source": [
    "#merge the dataframes based on Lacation in order to add 2 new columns 'Zip_codes' and 'Population' to \n",
    "\n",
    "zc_df = cc_df.merge(zipcode_df, on=\"Location\", how=\"outer\")"
   ]
  },
  {
   "cell_type": "code",
   "execution_count": null,
   "metadata": {},
   "outputs": [],
   "source": [
    "zc_df.head()"
   ]
  },
  {
   "cell_type": "code",
   "execution_count": null,
   "metadata": {},
   "outputs": [],
   "source": [
    "zc_df.shape"
   ]
  },
  {
   "cell_type": "code",
   "execution_count": null,
   "metadata": {},
   "outputs": [],
   "source": [
    "zc_df.nunique()"
   ]
  },
  {
   "cell_type": "code",
   "execution_count": null,
   "metadata": {},
   "outputs": [],
   "source": [
    "#save final merged clean_df to new csv file to use for Data Analysis and plotting\n",
    "zc_df.to_csv(\"df_clean2.csv\",index = False)"
   ]
  },
  {
   "cell_type": "code",
   "execution_count": null,
   "metadata": {},
   "outputs": [],
   "source": [
    "#display count of Columns to make sure all have same amount of rows\n",
    "zc_df.count()"
   ]
  },
  {
   "cell_type": "markdown",
   "metadata": {},
   "source": [
    "**Please add new code below this cell ONLY"
   ]
  },
  {
   "cell_type": "code",
   "execution_count": null,
   "metadata": {},
   "outputs": [],
   "source": []
  },
  {
   "cell_type": "code",
   "execution_count": null,
   "metadata": {},
   "outputs": [],
   "source": []
  }
 ],
 "metadata": {
  "kernelspec": {
   "display_name": "Python 3",
   "language": "python",
   "name": "python3"
  },
  "language_info": {
   "codemirror_mode": {
    "name": "ipython",
    "version": 3
   },
   "file_extension": ".py",
   "mimetype": "text/x-python",
   "name": "python",
   "nbconvert_exporter": "python",
   "pygments_lexer": "ipython3",
   "version": "3.7.0"
  }
 },
 "nbformat": 4,
 "nbformat_minor": 2
}
