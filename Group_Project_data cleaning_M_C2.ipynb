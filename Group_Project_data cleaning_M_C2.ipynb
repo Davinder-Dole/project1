{
 "cells": [
  {
   "cell_type": "code",
   "execution_count": 1,
   "metadata": {},
   "outputs": [],
   "source": [
    "# Import Dependencies\n",
    "import pandas as pd\n",
    "import matplotlib.pyplot as plt\n",
    "import numpy as np\n",
    "from datetime import datetime"
   ]
  },
  {
   "cell_type": "code",
   "execution_count": 2,
   "metadata": {},
   "outputs": [],
   "source": [
    "# read csv with date columns formated as datetime64\n",
    "\n",
    "df = pd.read_csv(\"data/Crime_Data_from_2010_to_Present.csv\", parse_dates=['Date Reported', 'Date Occurred'], low_memory=True)"
   ]
  },
  {
   "cell_type": "code",
   "execution_count": 3,
   "metadata": {},
   "outputs": [
    {
     "data": {
      "text/plain": [
       "DR Number                          int64\n",
       "Date Reported             datetime64[ns]\n",
       "Date Occurred             datetime64[ns]\n",
       "Time Occurred                      int64\n",
       "Area ID                            int64\n",
       "Area Name                         object\n",
       "Reporting District                 int64\n",
       "Crime Code                         int64\n",
       "Crime Code Description            object\n",
       "MO Codes                          object\n",
       "Victim Age                       float64\n",
       "Victim Sex                        object\n",
       "Victim Descent                    object\n",
       "Premise Code                     float64\n",
       "Premise Description               object\n",
       "Weapon Used Code                 float64\n",
       "Weapon Description                object\n",
       "Status Code                       object\n",
       "Status Description                object\n",
       "Crime Code 1                     float64\n",
       "Crime Code 2                     float64\n",
       "Crime Code 3                     float64\n",
       "Crime Code 4                     float64\n",
       "Address                           object\n",
       "Cross Street                      object\n",
       "Location                          object\n",
       "dtype: object"
      ]
     },
     "execution_count": 3,
     "metadata": {},
     "output_type": "execute_result"
    }
   ],
   "source": [
    "# display data type format for each column\n",
    "df.dtypes"
   ]
  },
  {
   "cell_type": "code",
   "execution_count": 5,
   "metadata": {},
   "outputs": [
    {
     "data": {
      "text/plain": [
       "(1876645, 26)"
      ]
     },
     "execution_count": 5,
     "metadata": {},
     "output_type": "execute_result"
    }
   ],
   "source": [
    "# displays count of rows and columns\n",
    "df.shape"
   ]
  },
  {
   "cell_type": "code",
   "execution_count": 7,
   "metadata": {},
   "outputs": [
    {
     "data": {
      "text/html": [
       "<div>\n",
       "<style scoped>\n",
       "    .dataframe tbody tr th:only-of-type {\n",
       "        vertical-align: middle;\n",
       "    }\n",
       "\n",
       "    .dataframe tbody tr th {\n",
       "        vertical-align: top;\n",
       "    }\n",
       "\n",
       "    .dataframe thead th {\n",
       "        text-align: right;\n",
       "    }\n",
       "</style>\n",
       "<table border=\"1\" class=\"dataframe\">\n",
       "  <thead>\n",
       "    <tr style=\"text-align: right;\">\n",
       "      <th></th>\n",
       "      <th>DR Number</th>\n",
       "      <th>Date Reported</th>\n",
       "      <th>Date Occurred</th>\n",
       "      <th>Time Occurred</th>\n",
       "      <th>Area ID</th>\n",
       "      <th>Area Name</th>\n",
       "      <th>Reporting District</th>\n",
       "      <th>Crime Code</th>\n",
       "      <th>Crime Code Description</th>\n",
       "      <th>MO Codes</th>\n",
       "      <th>...</th>\n",
       "      <th>Weapon Description</th>\n",
       "      <th>Status Code</th>\n",
       "      <th>Status Description</th>\n",
       "      <th>Crime Code 1</th>\n",
       "      <th>Crime Code 2</th>\n",
       "      <th>Crime Code 3</th>\n",
       "      <th>Crime Code 4</th>\n",
       "      <th>Address</th>\n",
       "      <th>Cross Street</th>\n",
       "      <th>Location</th>\n",
       "    </tr>\n",
       "  </thead>\n",
       "  <tbody>\n",
       "    <tr>\n",
       "      <th>0</th>\n",
       "      <td>1208575</td>\n",
       "      <td>2013-03-14</td>\n",
       "      <td>2013-03-11</td>\n",
       "      <td>1800</td>\n",
       "      <td>12</td>\n",
       "      <td>77th Street</td>\n",
       "      <td>1241</td>\n",
       "      <td>626</td>\n",
       "      <td>INTIMATE PARTNER - SIMPLE ASSAULT</td>\n",
       "      <td>0416 0446 1243 2000</td>\n",
       "      <td>...</td>\n",
       "      <td>STRONG-ARM (HANDS, FIST, FEET OR BODILY FORCE)</td>\n",
       "      <td>AO</td>\n",
       "      <td>Adult Other</td>\n",
       "      <td>626.0</td>\n",
       "      <td>NaN</td>\n",
       "      <td>NaN</td>\n",
       "      <td>NaN</td>\n",
       "      <td>6300    BRYNHURST                    AV</td>\n",
       "      <td>NaN</td>\n",
       "      <td>(33.9829, -118.3338)</td>\n",
       "    </tr>\n",
       "    <tr>\n",
       "      <th>1</th>\n",
       "      <td>102005556</td>\n",
       "      <td>2010-01-25</td>\n",
       "      <td>2010-01-22</td>\n",
       "      <td>2300</td>\n",
       "      <td>20</td>\n",
       "      <td>Olympic</td>\n",
       "      <td>2071</td>\n",
       "      <td>510</td>\n",
       "      <td>VEHICLE - STOLEN</td>\n",
       "      <td>NaN</td>\n",
       "      <td>...</td>\n",
       "      <td>NaN</td>\n",
       "      <td>IC</td>\n",
       "      <td>Invest Cont</td>\n",
       "      <td>510.0</td>\n",
       "      <td>NaN</td>\n",
       "      <td>NaN</td>\n",
       "      <td>NaN</td>\n",
       "      <td>VAN NESS</td>\n",
       "      <td>15TH</td>\n",
       "      <td>(34.0454, -118.3157)</td>\n",
       "    </tr>\n",
       "    <tr>\n",
       "      <th>2</th>\n",
       "      <td>418</td>\n",
       "      <td>2013-03-19</td>\n",
       "      <td>2013-03-18</td>\n",
       "      <td>2030</td>\n",
       "      <td>18</td>\n",
       "      <td>Southeast</td>\n",
       "      <td>1823</td>\n",
       "      <td>510</td>\n",
       "      <td>VEHICLE - STOLEN</td>\n",
       "      <td>NaN</td>\n",
       "      <td>...</td>\n",
       "      <td>NaN</td>\n",
       "      <td>IC</td>\n",
       "      <td>Invest Cont</td>\n",
       "      <td>510.0</td>\n",
       "      <td>NaN</td>\n",
       "      <td>NaN</td>\n",
       "      <td>NaN</td>\n",
       "      <td>200 E  104TH                        ST</td>\n",
       "      <td>NaN</td>\n",
       "      <td>(33.942, -118.2717)</td>\n",
       "    </tr>\n",
       "    <tr>\n",
       "      <th>3</th>\n",
       "      <td>101822289</td>\n",
       "      <td>2010-11-11</td>\n",
       "      <td>2010-11-10</td>\n",
       "      <td>1800</td>\n",
       "      <td>18</td>\n",
       "      <td>Southeast</td>\n",
       "      <td>1803</td>\n",
       "      <td>510</td>\n",
       "      <td>VEHICLE - STOLEN</td>\n",
       "      <td>NaN</td>\n",
       "      <td>...</td>\n",
       "      <td>NaN</td>\n",
       "      <td>IC</td>\n",
       "      <td>Invest Cont</td>\n",
       "      <td>510.0</td>\n",
       "      <td>NaN</td>\n",
       "      <td>NaN</td>\n",
       "      <td>NaN</td>\n",
       "      <td>88TH</td>\n",
       "      <td>WALL</td>\n",
       "      <td>(33.9572, -118.2717)</td>\n",
       "    </tr>\n",
       "    <tr>\n",
       "      <th>4</th>\n",
       "      <td>42104479</td>\n",
       "      <td>2014-01-11</td>\n",
       "      <td>2014-01-04</td>\n",
       "      <td>2300</td>\n",
       "      <td>21</td>\n",
       "      <td>Topanga</td>\n",
       "      <td>2133</td>\n",
       "      <td>745</td>\n",
       "      <td>VANDALISM - MISDEAMEANOR ($399 OR UNDER)</td>\n",
       "      <td>0329</td>\n",
       "      <td>...</td>\n",
       "      <td>NaN</td>\n",
       "      <td>IC</td>\n",
       "      <td>Invest Cont</td>\n",
       "      <td>745.0</td>\n",
       "      <td>NaN</td>\n",
       "      <td>NaN</td>\n",
       "      <td>NaN</td>\n",
       "      <td>7200    CIRRUS                       WY</td>\n",
       "      <td>NaN</td>\n",
       "      <td>(34.2009, -118.6369)</td>\n",
       "    </tr>\n",
       "    <tr>\n",
       "      <th>5</th>\n",
       "      <td>120125367</td>\n",
       "      <td>2013-01-08</td>\n",
       "      <td>2013-01-08</td>\n",
       "      <td>1400</td>\n",
       "      <td>1</td>\n",
       "      <td>Central</td>\n",
       "      <td>111</td>\n",
       "      <td>110</td>\n",
       "      <td>CRIMINAL HOMICIDE</td>\n",
       "      <td>1243 2000 1813 1814 2002 0416 0400</td>\n",
       "      <td>...</td>\n",
       "      <td>STRONG-ARM (HANDS, FIST, FEET OR BODILY FORCE)</td>\n",
       "      <td>AA</td>\n",
       "      <td>Adult Arrest</td>\n",
       "      <td>110.0</td>\n",
       "      <td>NaN</td>\n",
       "      <td>NaN</td>\n",
       "      <td>NaN</td>\n",
       "      <td>600 N  HILL                         ST</td>\n",
       "      <td>NaN</td>\n",
       "      <td>(34.0591, -118.2412)</td>\n",
       "    </tr>\n",
       "    <tr>\n",
       "      <th>6</th>\n",
       "      <td>101105609</td>\n",
       "      <td>2010-01-28</td>\n",
       "      <td>2010-01-27</td>\n",
       "      <td>2230</td>\n",
       "      <td>11</td>\n",
       "      <td>Northeast</td>\n",
       "      <td>1125</td>\n",
       "      <td>510</td>\n",
       "      <td>VEHICLE - STOLEN</td>\n",
       "      <td>NaN</td>\n",
       "      <td>...</td>\n",
       "      <td>NaN</td>\n",
       "      <td>IC</td>\n",
       "      <td>Invest Cont</td>\n",
       "      <td>510.0</td>\n",
       "      <td>NaN</td>\n",
       "      <td>NaN</td>\n",
       "      <td>NaN</td>\n",
       "      <td>YORK</td>\n",
       "      <td>AVENUE 51</td>\n",
       "      <td>(34.1211, -118.2048)</td>\n",
       "    </tr>\n",
       "    <tr>\n",
       "      <th>7</th>\n",
       "      <td>101620051</td>\n",
       "      <td>2010-11-11</td>\n",
       "      <td>2010-11-07</td>\n",
       "      <td>1600</td>\n",
       "      <td>16</td>\n",
       "      <td>Foothill</td>\n",
       "      <td>1641</td>\n",
       "      <td>510</td>\n",
       "      <td>VEHICLE - STOLEN</td>\n",
       "      <td>NaN</td>\n",
       "      <td>...</td>\n",
       "      <td>NaN</td>\n",
       "      <td>IC</td>\n",
       "      <td>Invest Cont</td>\n",
       "      <td>510.0</td>\n",
       "      <td>NaN</td>\n",
       "      <td>NaN</td>\n",
       "      <td>NaN</td>\n",
       "      <td>EL DORADO</td>\n",
       "      <td>TRUESDALE</td>\n",
       "      <td>(34.241, -118.3987)</td>\n",
       "    </tr>\n",
       "    <tr>\n",
       "      <th>8</th>\n",
       "      <td>101910498</td>\n",
       "      <td>2010-04-07</td>\n",
       "      <td>2010-04-07</td>\n",
       "      <td>1600</td>\n",
       "      <td>19</td>\n",
       "      <td>Mission</td>\n",
       "      <td>1902</td>\n",
       "      <td>510</td>\n",
       "      <td>VEHICLE - STOLEN</td>\n",
       "      <td>NaN</td>\n",
       "      <td>...</td>\n",
       "      <td>NaN</td>\n",
       "      <td>IC</td>\n",
       "      <td>Invest Cont</td>\n",
       "      <td>510.0</td>\n",
       "      <td>NaN</td>\n",
       "      <td>NaN</td>\n",
       "      <td>NaN</td>\n",
       "      <td>GLENOAKS</td>\n",
       "      <td>DRELL</td>\n",
       "      <td>(34.3147, -118.4589)</td>\n",
       "    </tr>\n",
       "    <tr>\n",
       "      <th>9</th>\n",
       "      <td>120908292</td>\n",
       "      <td>2013-03-29</td>\n",
       "      <td>2013-01-15</td>\n",
       "      <td>800</td>\n",
       "      <td>9</td>\n",
       "      <td>Van Nuys</td>\n",
       "      <td>904</td>\n",
       "      <td>668</td>\n",
       "      <td>EMBEZZLEMENT, GRAND THEFT ($950.01 &amp; OVER)</td>\n",
       "      <td>0344 1300</td>\n",
       "      <td>...</td>\n",
       "      <td>NaN</td>\n",
       "      <td>IC</td>\n",
       "      <td>Invest Cont</td>\n",
       "      <td>668.0</td>\n",
       "      <td>NaN</td>\n",
       "      <td>NaN</td>\n",
       "      <td>NaN</td>\n",
       "      <td>7200    SEPULVEDA                    BL</td>\n",
       "      <td>NaN</td>\n",
       "      <td>(34.2012, -118.4662)</td>\n",
       "    </tr>\n",
       "  </tbody>\n",
       "</table>\n",
       "<p>10 rows × 26 columns</p>\n",
       "</div>"
      ],
      "text/plain": [
       "   DR Number Date Reported Date Occurred  Time Occurred  Area ID    Area Name  \\\n",
       "0    1208575    2013-03-14    2013-03-11           1800       12  77th Street   \n",
       "1  102005556    2010-01-25    2010-01-22           2300       20      Olympic   \n",
       "2        418    2013-03-19    2013-03-18           2030       18    Southeast   \n",
       "3  101822289    2010-11-11    2010-11-10           1800       18    Southeast   \n",
       "4   42104479    2014-01-11    2014-01-04           2300       21      Topanga   \n",
       "5  120125367    2013-01-08    2013-01-08           1400        1      Central   \n",
       "6  101105609    2010-01-28    2010-01-27           2230       11    Northeast   \n",
       "7  101620051    2010-11-11    2010-11-07           1600       16     Foothill   \n",
       "8  101910498    2010-04-07    2010-04-07           1600       19      Mission   \n",
       "9  120908292    2013-03-29    2013-01-15            800        9     Van Nuys   \n",
       "\n",
       "   Reporting District  Crime Code                      Crime Code Description  \\\n",
       "0                1241         626           INTIMATE PARTNER - SIMPLE ASSAULT   \n",
       "1                2071         510                            VEHICLE - STOLEN   \n",
       "2                1823         510                            VEHICLE - STOLEN   \n",
       "3                1803         510                            VEHICLE - STOLEN   \n",
       "4                2133         745    VANDALISM - MISDEAMEANOR ($399 OR UNDER)   \n",
       "5                 111         110                           CRIMINAL HOMICIDE   \n",
       "6                1125         510                            VEHICLE - STOLEN   \n",
       "7                1641         510                            VEHICLE - STOLEN   \n",
       "8                1902         510                            VEHICLE - STOLEN   \n",
       "9                 904         668  EMBEZZLEMENT, GRAND THEFT ($950.01 & OVER)   \n",
       "\n",
       "                             MO Codes          ...           \\\n",
       "0                 0416 0446 1243 2000          ...            \n",
       "1                                 NaN          ...            \n",
       "2                                 NaN          ...            \n",
       "3                                 NaN          ...            \n",
       "4                                0329          ...            \n",
       "5  1243 2000 1813 1814 2002 0416 0400          ...            \n",
       "6                                 NaN          ...            \n",
       "7                                 NaN          ...            \n",
       "8                                 NaN          ...            \n",
       "9                           0344 1300          ...            \n",
       "\n",
       "                               Weapon Description Status Code  \\\n",
       "0  STRONG-ARM (HANDS, FIST, FEET OR BODILY FORCE)          AO   \n",
       "1                                             NaN          IC   \n",
       "2                                             NaN          IC   \n",
       "3                                             NaN          IC   \n",
       "4                                             NaN          IC   \n",
       "5  STRONG-ARM (HANDS, FIST, FEET OR BODILY FORCE)          AA   \n",
       "6                                             NaN          IC   \n",
       "7                                             NaN          IC   \n",
       "8                                             NaN          IC   \n",
       "9                                             NaN          IC   \n",
       "\n",
       "  Status Description  Crime Code 1 Crime Code 2  Crime Code 3 Crime Code 4  \\\n",
       "0        Adult Other         626.0          NaN           NaN          NaN   \n",
       "1        Invest Cont         510.0          NaN           NaN          NaN   \n",
       "2        Invest Cont         510.0          NaN           NaN          NaN   \n",
       "3        Invest Cont         510.0          NaN           NaN          NaN   \n",
       "4        Invest Cont         745.0          NaN           NaN          NaN   \n",
       "5       Adult Arrest         110.0          NaN           NaN          NaN   \n",
       "6        Invest Cont         510.0          NaN           NaN          NaN   \n",
       "7        Invest Cont         510.0          NaN           NaN          NaN   \n",
       "8        Invest Cont         510.0          NaN           NaN          NaN   \n",
       "9        Invest Cont         668.0          NaN           NaN          NaN   \n",
       "\n",
       "                                   Address Cross Street             Location   \n",
       "0  6300    BRYNHURST                    AV          NaN  (33.9829, -118.3338)  \n",
       "1                                 VAN NESS         15TH  (34.0454, -118.3157)  \n",
       "2   200 E  104TH                        ST          NaN   (33.942, -118.2717)  \n",
       "3                                     88TH         WALL  (33.9572, -118.2717)  \n",
       "4  7200    CIRRUS                       WY          NaN  (34.2009, -118.6369)  \n",
       "5   600 N  HILL                         ST          NaN  (34.0591, -118.2412)  \n",
       "6                                     YORK    AVENUE 51  (34.1211, -118.2048)  \n",
       "7                                EL DORADO    TRUESDALE   (34.241, -118.3987)  \n",
       "8                                 GLENOAKS        DRELL  (34.3147, -118.4589)  \n",
       "9  7200    SEPULVEDA                    BL          NaN  (34.2012, -118.4662)  \n",
       "\n",
       "[10 rows x 26 columns]"
      ]
     },
     "execution_count": 7,
     "metadata": {},
     "output_type": "execute_result"
    }
   ],
   "source": [
    "# display top 10 rows\n",
    "df.head(10)"
   ]
  },
  {
   "cell_type": "code",
   "execution_count": 8,
   "metadata": {},
   "outputs": [],
   "source": [
    "# remove spaces in column headers\n",
    "df.columns=[x.strip().replace(\" \",\"\") for x in df.columns]"
   ]
  },
  {
   "cell_type": "code",
   "execution_count": 10,
   "metadata": {},
   "outputs": [
    {
     "data": {
      "text/plain": [
       "DRNumber                1876645\n",
       "DateReported               3264\n",
       "DateOccurred               3264\n",
       "TimeOccurred               1438\n",
       "AreaID                       21\n",
       "AreaName                     21\n",
       "ReportingDistrict          1296\n",
       "CrimeCode                   139\n",
       "CrimeCodeDescription        149\n",
       "MOCodes                  420921\n",
       "VictimAge                    90\n",
       "VictimSex                     6\n",
       "VictimDescent                20\n",
       "PremiseCode                 322\n",
       "PremiseDescription          322\n",
       "WeaponUsedCode               80\n",
       "WeaponDescription            79\n",
       "StatusCode                    9\n",
       "StatusDescription             6\n",
       "CrimeCode1                  146\n",
       "CrimeCode2                  140\n",
       "CrimeCode3                   57\n",
       "CrimeCode4                   11\n",
       "Address                   73393\n",
       "CrossStreet               12091\n",
       "Location                  62625\n",
       "dtype: int64"
      ]
     },
     "execution_count": 10,
     "metadata": {},
     "output_type": "execute_result"
    }
   ],
   "source": [
    "# display count of unique values in each column\n",
    "df.nunique()"
   ]
  },
  {
   "cell_type": "markdown",
   "metadata": {},
   "source": [
    "### Creating a sub data frame called df_clean that only contains the columns of interests before cleaning the data"
   ]
  },
  {
   "cell_type": "code",
   "execution_count": 11,
   "metadata": {},
   "outputs": [
    {
     "data": {
      "text/plain": [
       "Index(['DRNumber', 'DateOccurred', 'TimeOccurred', 'AreaID', 'AreaName',\n",
       "       'CrimeCode', 'CrimeCodeDescription', 'VictimAge', 'VictimSex',\n",
       "       'VictimDescent', 'Location'],\n",
       "      dtype='object')"
      ]
     },
     "execution_count": 11,
     "metadata": {},
     "output_type": "execute_result"
    }
   ],
   "source": [
    "# keep 11 columns and delete 15 columns irrelevant for Analysis or missing too much data\n",
    "df_clean=df[['DRNumber', 'DateOccurred', 'TimeOccurred', 'AreaID',\n",
    "       'AreaName', 'CrimeCode', 'CrimeCodeDescription',\n",
    "        'VictimAge', 'VictimSex', 'VictimDescent',\n",
    "        'Location']]\n",
    "df_clean.columns"
   ]
  },
  {
   "cell_type": "code",
   "execution_count": 12,
   "metadata": {},
   "outputs": [
    {
     "data": {
      "text/plain": [
       "DRNumber                1876645\n",
       "DateOccurred            1876645\n",
       "TimeOccurred            1876645\n",
       "AreaID                  1876645\n",
       "AreaName                1876645\n",
       "CrimeCode               1876645\n",
       "CrimeCodeDescription    1876283\n",
       "VictimAge               1728442\n",
       "VictimSex               1703856\n",
       "VictimDescent           1703814\n",
       "Location                1876636\n",
       "dtype: int64"
      ]
     },
     "execution_count": 12,
     "metadata": {},
     "output_type": "execute_result"
    }
   ],
   "source": [
    "# display count of each column in order to see which ones have values missing\n",
    "df_clean.count()"
   ]
  },
  {
   "cell_type": "markdown",
   "metadata": {},
   "source": [
    "### Deleting all rows with NaN values"
   ]
  },
  {
   "cell_type": "code",
   "execution_count": 13,
   "metadata": {},
   "outputs": [],
   "source": [
    "#delete all rows with NaN values\n",
    "\n",
    "df_clean=df_clean.loc[(~(df[\"DRNumber\"].isna())) &\n",
    "                (~(df[\"DateReported\"].isna())) &\n",
    "                (~(df[\"DateOccurred\"].isna())) &\n",
    "                (~(df[\"TimeOccurred\"].isna())) &\n",
    "                (~(df[\"AreaID\"].isna())) &\n",
    "                (~(df[\"AreaName\"].isna())) &\n",
    "                (~(df[\"CrimeCode\"].isna())) &\n",
    "                (~(df[\"CrimeCodeDescription\"].isna())) &\n",
    "                (~(df[\"VictimAge\"].isna())) &\n",
    "                (~(df[\"VictimSex\"].isna()))&\n",
    "                (~(df[\"VictimDescent\"].isna())) &\n",
    "                (~(df[\"Location\"].isna())) ]"
   ]
  },
  {
   "cell_type": "code",
   "execution_count": 14,
   "metadata": {},
   "outputs": [
    {
     "data": {
      "text/plain": [
       "DRNumber                1575443\n",
       "DateOccurred            1575443\n",
       "TimeOccurred            1575443\n",
       "AreaID                  1575443\n",
       "AreaName                1575443\n",
       "CrimeCode               1575443\n",
       "CrimeCodeDescription    1575443\n",
       "VictimAge               1575443\n",
       "VictimSex               1575443\n",
       "VictimDescent           1575443\n",
       "Location                1575443\n",
       "dtype: int64"
      ]
     },
     "execution_count": 14,
     "metadata": {},
     "output_type": "execute_result"
    }
   ],
   "source": [
    "#confirm all columns have same # of rows with 301,202 NaN rows removed \n",
    "\n",
    "df_clean.count()"
   ]
  },
  {
   "cell_type": "code",
   "execution_count": 15,
   "metadata": {},
   "outputs": [
    {
     "data": {
      "text/plain": [
       "DRNumber                         int64\n",
       "DateOccurred            datetime64[ns]\n",
       "TimeOccurred                     int64\n",
       "AreaID                           int64\n",
       "AreaName                        object\n",
       "CrimeCode                        int64\n",
       "CrimeCodeDescription            object\n",
       "VictimAge                      float64\n",
       "VictimSex                       object\n",
       "VictimDescent                   object\n",
       "Location                        object\n",
       "dtype: object"
      ]
     },
     "execution_count": 15,
     "metadata": {},
     "output_type": "execute_result"
    }
   ],
   "source": [
    "df_clean.dtypes"
   ]
  },
  {
   "cell_type": "code",
   "execution_count": 16,
   "metadata": {},
   "outputs": [],
   "source": [
    "df_clean.to_csv(\"data/df_clean.csv\",index= False)"
   ]
  },
  {
   "cell_type": "code",
   "execution_count": 17,
   "metadata": {},
   "outputs": [
    {
     "data": {
      "text/html": [
       "<div>\n",
       "<style scoped>\n",
       "    .dataframe tbody tr th:only-of-type {\n",
       "        vertical-align: middle;\n",
       "    }\n",
       "\n",
       "    .dataframe tbody tr th {\n",
       "        vertical-align: top;\n",
       "    }\n",
       "\n",
       "    .dataframe thead th {\n",
       "        text-align: right;\n",
       "    }\n",
       "</style>\n",
       "<table border=\"1\" class=\"dataframe\">\n",
       "  <thead>\n",
       "    <tr style=\"text-align: right;\">\n",
       "      <th></th>\n",
       "      <th>CrimeCodeDescription</th>\n",
       "      <th>NewCrimeCategory</th>\n",
       "      <th>Violent_NonViolent</th>\n",
       "    </tr>\n",
       "  </thead>\n",
       "  <tbody>\n",
       "    <tr>\n",
       "      <th>0</th>\n",
       "      <td>BATTERY - SIMPLE ASSAULT</td>\n",
       "      <td>ASSAULT AND BATTERY</td>\n",
       "      <td>VIOLENT</td>\n",
       "    </tr>\n",
       "    <tr>\n",
       "      <th>1</th>\n",
       "      <td>BURGLARY FROM VEHICLE</td>\n",
       "      <td>ROBBERY/BURGLARY</td>\n",
       "      <td>VIOLENT</td>\n",
       "    </tr>\n",
       "    <tr>\n",
       "      <th>2</th>\n",
       "      <td>VEHICLE - STOLEN</td>\n",
       "      <td>THEFT</td>\n",
       "      <td>NON-VIOLENT</td>\n",
       "    </tr>\n",
       "    <tr>\n",
       "      <th>3</th>\n",
       "      <td>BURGLARY</td>\n",
       "      <td>ROBBERY/BURGLARY</td>\n",
       "      <td>VIOLENT</td>\n",
       "    </tr>\n",
       "    <tr>\n",
       "      <th>4</th>\n",
       "      <td>THEFT PLAIN - PETTY ($950 &amp; UNDER)</td>\n",
       "      <td>THEFT</td>\n",
       "      <td>NON-VIOLENT</td>\n",
       "    </tr>\n",
       "  </tbody>\n",
       "</table>\n",
       "</div>"
      ],
      "text/plain": [
       "                 CrimeCodeDescription     NewCrimeCategory Violent_NonViolent\n",
       "0            BATTERY - SIMPLE ASSAULT  ASSAULT AND BATTERY            VIOLENT\n",
       "1               BURGLARY FROM VEHICLE     ROBBERY/BURGLARY            VIOLENT\n",
       "2                    VEHICLE - STOLEN                THEFT        NON-VIOLENT\n",
       "3                            BURGLARY     ROBBERY/BURGLARY            VIOLENT\n",
       "4  THEFT PLAIN - PETTY ($950 & UNDER)                THEFT        NON-VIOLENT"
      ]
     },
     "execution_count": 17,
     "metadata": {},
     "output_type": "execute_result"
    }
   ],
   "source": [
    "#create new df to add consolidated Crime Categories into 12 main categories\n",
    "\n",
    "crime_cat_df= pd.read_excel(\"crimecode_desc_update.xlsx\")\n",
    "crime_cat_df.head()"
   ]
  },
  {
   "cell_type": "code",
   "execution_count": 18,
   "metadata": {},
   "outputs": [],
   "source": [
    "#merge the dataframes based on Crime description in order to add 2 new columns 'NewCrimeCategory' and 'Violent_Non-Violent'\n",
    "\n",
    "cc_df = df_clean.merge(crime_cat_df, on=\"CrimeCodeDescription\", how=\"outer\")"
   ]
  },
  {
   "cell_type": "code",
   "execution_count": null,
   "metadata": {},
   "outputs": [],
   "source": [
    "crime_perc = cc_df[\"NewCrimeCategory\"].value_counts() / cc_df[\"NewCrimeCategory\"].value_counts()\n",
    "crime_pc"
   ]
  },
  {
   "cell_type": "code",
   "execution_count": 20,
   "metadata": {},
   "outputs": [
    {
     "name": "stdout",
     "output_type": "stream",
     "text": [
      "Index(['DRNumber', 'DateReported', 'DateOccurred', 'TimeOccurred', 'AreaID',\n",
      "       'AreaName', 'ReportingDistrict', 'CrimeCode', 'CrimeCodeDescription',\n",
      "       'MOCodes', 'VictimAge', 'VictimSex', 'VictimDescent', 'PremiseCode',\n",
      "       'PremiseDescription', 'WeaponUsedCode', 'WeaponDescription',\n",
      "       'StatusCode', 'StatusDescription', 'CrimeCode1', 'CrimeCode2',\n",
      "       'CrimeCode3', 'CrimeCode4', 'Address', 'CrossStreet', 'Location'],\n",
      "      dtype='object')\n"
     ]
    },
    {
     "data": {
      "text/plain": [
       "AreaName\n",
       "77th Street    6.920968\n",
       "Southwest      6.438405\n",
       "N Hollywood    5.415888\n",
       "Pacific        5.297965\n",
       "Southeast      5.255336\n",
       "Mission        4.976434\n",
       "Northeast      4.779114\n",
       "Van Nuys       4.748634\n",
       "Newton         4.704566\n",
       "Topanga        4.630284\n",
       "Hollywood      4.622718\n",
       "Devonshire     4.607904\n",
       "Olympic        4.491579\n",
       "Central        4.447618\n",
       "Harbor         4.396303\n",
       "West Valley    4.257332\n",
       "Rampart        4.225679\n",
       "West LA        4.204418\n",
       "Wilshire       4.112126\n",
       "Foothill       3.802158\n",
       "Hollenbeck     3.664572\n",
       "Name: DRNumber, dtype: float64"
      ]
     },
     "execution_count": 20,
     "metadata": {},
     "output_type": "execute_result"
    }
   ],
   "source": [
    "# Comparison Test to check Area percentages Original df and Clean df with rows with NaN values - no significant impact\n",
    "\n",
    "print(df.columns)\n",
    "check1 = df.groupby(\"AreaName\")\n",
    "total=df[\"DRNumber\"].count()\n",
    "((check1[\"DRNumber\"].count()/total)*100).sort_values(ascending=False)"
   ]
  },
  {
   "cell_type": "code",
   "execution_count": 21,
   "metadata": {},
   "outputs": [
    {
     "name": "stdout",
     "output_type": "stream",
     "text": [
      "Index(['DRNumber', 'DateOccurred', 'TimeOccurred', 'AreaID', 'AreaName',\n",
      "       'CrimeCode', 'CrimeCodeDescription', 'VictimAge', 'VictimSex',\n",
      "       'VictimDescent', 'Location'],\n",
      "      dtype='object')\n"
     ]
    },
    {
     "data": {
      "text/plain": [
       "AreaName\n",
       "77th Street    7.125805\n",
       "Southwest      6.787615\n",
       "N Hollywood    5.735974\n",
       "Southeast      5.311585\n",
       "Pacific        5.082443\n",
       "Topanga        4.959621\n",
       "Mission        4.861109\n",
       "Van Nuys       4.729400\n",
       "Central        4.701535\n",
       "Hollywood      4.650375\n",
       "Devonshire     4.543294\n",
       "Northeast      4.525648\n",
       "Rampart        4.410759\n",
       "West LA        4.392733\n",
       "Wilshire       4.348110\n",
       "Newton         4.333892\n",
       "Harbor         4.280764\n",
       "Olympic        4.250804\n",
       "West Valley    4.098022\n",
       "Foothill       3.643610\n",
       "Hollenbeck     3.226902\n",
       "Name: DRNumber, dtype: float64"
      ]
     },
     "execution_count": 21,
     "metadata": {},
     "output_type": "execute_result"
    }
   ],
   "source": [
    "# Comparison Test to check Area percentages Original df and Clean df with rows with NaN values - no significant impact\n",
    "print(df_clean.columns)\n",
    "check2 = df_clean.groupby(\"AreaName\")\n",
    "total=df_clean[\"DRNumber\"].count()\n",
    "((check2[\"DRNumber\"].count()/total)*100).sort_values(ascending=False)"
   ]
  },
  {
   "cell_type": "code",
   "execution_count": 22,
   "metadata": {},
   "outputs": [
    {
     "data": {
      "text/plain": [
       "(1575443, 13)"
      ]
     },
     "execution_count": 22,
     "metadata": {},
     "output_type": "execute_result"
    }
   ],
   "source": [
    "cc_df.shape"
   ]
  },
  {
   "cell_type": "code",
   "execution_count": 23,
   "metadata": {},
   "outputs": [
    {
     "data": {
      "text/plain": [
       "DRNumber                1575443\n",
       "DateOccurred            1575443\n",
       "TimeOccurred            1575443\n",
       "AreaID                  1575443\n",
       "AreaName                1575443\n",
       "CrimeCode               1575443\n",
       "CrimeCodeDescription    1575443\n",
       "VictimAge               1575443\n",
       "VictimSex               1575443\n",
       "VictimDescent           1575443\n",
       "Location                1575443\n",
       "NewCrimeCategory        1575443\n",
       "Violent_NonViolent      1575443\n",
       "dtype: int64"
      ]
     },
     "execution_count": 23,
     "metadata": {},
     "output_type": "execute_result"
    }
   ],
   "source": [
    "cc_df.count()"
   ]
  },
  {
   "cell_type": "code",
   "execution_count": 24,
   "metadata": {},
   "outputs": [
    {
     "data": {
      "text/plain": [
       "DRNumber                1575443\n",
       "DateOccurred               3264\n",
       "TimeOccurred               1438\n",
       "AreaID                       21\n",
       "AreaName                     21\n",
       "CrimeCode                   139\n",
       "CrimeCodeDescription        149\n",
       "VictimAge                    90\n",
       "VictimSex                     6\n",
       "VictimDescent                20\n",
       "Location                  60926\n",
       "NewCrimeCategory             12\n",
       "Violent_NonViolent            2\n",
       "dtype: int64"
      ]
     },
     "execution_count": 24,
     "metadata": {},
     "output_type": "execute_result"
    }
   ],
   "source": [
    "cc_df.nunique()"
   ]
  },
  {
   "cell_type": "code",
   "execution_count": 34,
   "metadata": {},
   "outputs": [],
   "source": [
    "cc_df.to_csv(\"data/df_clean2.csv\",index = False)"
   ]
  },
  {
   "cell_type": "code",
   "execution_count": 28,
   "metadata": {},
   "outputs": [
    {
     "name": "stdout",
     "output_type": "stream",
     "text": [
      "SimpleZipcode(zipcode='90035', zipcode_type='Standard', major_city='Los Angeles', post_office_city='Los Angeles, CA', common_city_list=['Los Angeles'], county='Los Angeles County', state='CA', lat=34.05, lng=-118.39, timezone='Pacific', radius_in_miles=2.0, area_code_list=['310', '424'], population=28418, population_density=13808.0, land_area_in_sqmi=2.06, water_area_in_sqmi=0.0, housing_units=14030, occupied_housing_units=12814, median_home_value=842500, median_household_income=75863, bounds_west=-118.406643, bounds_east=-118.364894, bounds_north=34.062954, bounds_south=34.04141)\n"
     ]
    }
   ],
   "source": [
    "# Test code to use uszipcode Library to find closest zipcode to lat_lng Location\n",
    "\n",
    "from uszipcode import SearchEngine\n",
    "search = SearchEngine(simple_zipcode=True)\n",
    "zipcodes = search.by_coordinates(lat=34.0516, lng=-118.3809)\n",
    "if zipcodes:\n",
    "    print(zipcodes[0])"
   ]
  },
  {
   "cell_type": "code",
   "execution_count": 29,
   "metadata": {},
   "outputs": [
    {
     "data": {
      "text/plain": [
       "['Los Angeles']"
      ]
     },
     "execution_count": 29,
     "metadata": {},
     "output_type": "execute_result"
    }
   ],
   "source": [
    "zipcodes[0].common_city_list"
   ]
  },
  {
   "cell_type": "code",
   "execution_count": 30,
   "metadata": {},
   "outputs": [
    {
     "data": {
      "text/plain": [
       "28418"
      ]
     },
     "execution_count": 30,
     "metadata": {},
     "output_type": "execute_result"
    }
   ],
   "source": [
    "zipcodes[0].population"
   ]
  },
  {
   "cell_type": "code",
   "execution_count": null,
   "metadata": {},
   "outputs": [],
   "source": [
    "# Separate Location Column into separate lat_lng coordinates and create zipcode list for 60,926 unique Location coords\n",
    "\n",
    "from uszipcode import SearchEngine\n",
    "search = SearchEngine(simple_zipcode=True)\n",
    "\n",
    "df_coords = cc_df['Location']\n",
    "zip_codes = []\n",
    "for coord in df_coords:\n",
    "    coord = coord.replace(' ', '')[1:-1]\n",
    "    splits = coord.split(',')\n",
    "    lat = float(splits[0])\n",
    "    long = float(splits[1])\n",
    "    zipcodes = search.by_coordinates(lat=lat, lng=long)\n",
    "    if zipcodes:\n",
    "        print(lat, long, zipcodes[0].zipcode)\n",
    "        zip_codes.append(zipcodes[0].zipcode)\n",
    "    else:\n",
    "        zip_codes.append('not found')"
   ]
  },
  {
   "cell_type": "code",
   "execution_count": null,
   "metadata": {},
   "outputs": [],
   "source": [
    "## Mina to add new zipcode_df with Columns 'Zipcode' 'common_city_list' 'population' and lat_lng' to merge with df['Location']\n",
    "## in order to groupby AreaName and provide population totals based on AreaName \n"
   ]
  },
  {
   "cell_type": "code",
   "execution_count": null,
   "metadata": {},
   "outputs": [],
   "source": []
  },
  {
   "cell_type": "code",
   "execution_count": null,
   "metadata": {},
   "outputs": [],
   "source": []
  },
  {
   "cell_type": "code",
   "execution_count": null,
   "metadata": {},
   "outputs": [],
   "source": []
  }
 ],
 "metadata": {
  "kernelspec": {
   "display_name": "Python 3",
   "language": "python",
   "name": "python3"
  },
  "language_info": {
   "codemirror_mode": {
    "name": "ipython",
    "version": 3
   },
   "file_extension": ".py",
   "mimetype": "text/x-python",
   "name": "python",
   "nbconvert_exporter": "python",
   "pygments_lexer": "ipython3",
   "version": "3.7.0"
  }
 },
 "nbformat": 4,
 "nbformat_minor": 2
}
